{
 "cells": [
  {
   "cell_type": "markdown",
   "metadata": {},
   "source": [
    " \n",
    " # International Training Course\n",
    " \n",
    " # Scenario Loss Exercise\n",
    " \n",
    " ### mhaas@gfz-potsdam.de\n",
    " \n",
    " \n",
    " \n",
    " \n",
    "\n",
    "## language: Python 2.7\n",
    "\n",
    "### required packages\n"
   ]
  },
  {
   "cell_type": "code",
   "execution_count": null,
   "metadata": {},
   "outputs": [],
   "source": [
    "import math\n",
    "import numpy\n",
    "import scipy.stats\n",
    "import pandas\n",
    "import sqlalchemy\n",
    "import matplotlib.pyplot as plt\n",
    "import warnings\n",
    "\n",
    "%matplotlib inline"
   ]
  },
  {
   "cell_type": "markdown",
   "metadata": {},
   "source": [
    " # 1. Exposure\n",
    " \n",
    " ## Tasks\n",
    "    - Connecting to the database\n",
    "    - Plotting a distribution of the material type\n",
    "    - Plotting age of the buildings\n",
    "\n",
    "\n",
    "### Collecting data\n",
    "Now let's connect to the database and get all analyzed buildings"
   ]
  },
  {
   "cell_type": "code",
   "execution_count": null,
   "metadata": {},
   "outputs": [],
   "source": [
    "# database connection\n",
    "user = 'user'\n",
    "password = 'password'\n",
    "host = 'host'\n",
    "\n",
    "engine = sqlalchemy.create_engine('postgresql://{}:{}@{}:5432/rem'.format(user,password,host))\n",
    "\n",
    "survey_id = 8\n",
    "\n",
    "# query to the database\n",
    "def get_proc_expo(engine,tablename,survey_id):\n",
    "    \n",
    "    sql = \"\"\"\n",
    "    SELECT \n",
    "    st_x(st_transform(st_centroid(v.the_geom),4326)) lon,\n",
    "    st_y(st_transform(st_centroid(v.the_geom),4326)) lat,\n",
    "    v.gid,\n",
    "    v.mat_type,\n",
    "    v.year_1 built,\n",
    "    v.height_1 floors,\n",
    "    v.occupy\n",
    "    FROM {} v WHERE survey_gid = {} AND rrvs_status='UNMODIFIED';\"\"\".format(tablename,survey_id)\n",
    "\n",
    "    t=pandas.read_sql_query(sql,con=engine)\n",
    "    return t\n",
    "\n",
    "#store data in pandas dataframe\n",
    "data = get_proc_expo(engine,'asset.ve_object',survey_id)"
   ]
  },
  {
   "cell_type": "markdown",
   "metadata": {},
   "source": [
    "### Inspect the collected data"
   ]
  },
  {
   "cell_type": "code",
   "execution_count": null,
   "metadata": {},
   "outputs": [],
   "source": [
    "data"
   ]
  },
  {
   "cell_type": "code",
   "execution_count": null,
   "metadata": {},
   "outputs": [],
   "source": [
    "# We can investigate the individual attributes and also plot them\n",
    "variable = 'mat_type'\n",
    "\n",
    "#select only the column and get the counts (to get normalized values devide by the sum)\n",
    "data[variable].value_counts()#/sum(data[variable].value_counts())"
   ]
  },
  {
   "cell_type": "code",
   "execution_count": null,
   "metadata": {
    "scrolled": false
   },
   "outputs": [],
   "source": [
    "# Plot the distribution\n",
    "plt.figure()\n",
    "data[variable].value_counts().plot.bar()\n",
    "plt.show()"
   ]
  },
  {
   "cell_type": "markdown",
   "metadata": {},
   "source": [
    "# 2. Fragility and Vulnerability \n",
    " \n",
    " ## Tasks\n",
    "    - Fragility curves for vulnerability classes\n",
    "    - Assigning EMS-98 building types\n",
    "    - Fragility curves for building types\n",
    "    - Plotting curves for different building types"
   ]
  },
  {
   "cell_type": "markdown",
   "metadata": {},
   "source": [
    "### Fragility models for EMS-98 vulnerabilty classes\n",
    "\n",
    "First take a look at the fragility models as defined for each vulnerability class in Giovinazzi and Lagomarsino (2005).\n",
    "\n",
    "![ems98_vc.jpeg](ems98_vc.jpeg)\n",
    "\n",
    "NOTE: We only use the most likely vulnerability index values here."
   ]
  },
  {
   "cell_type": "code",
   "execution_count": null,
   "metadata": {},
   "outputs": [],
   "source": [
    "# Routine to create a discrete fragility function for OpenQuake\n",
    "# i.e. f(MMI,DG)=P(dg > DG|Building type)\n",
    "# as well as a discrete vulnerability function\n",
    "# using the Giovinazzi vulnerability index method\n",
    "import math\n",
    "import scipy.stats\n",
    "import numpy\n",
    "\n",
    "#levels of ground motion (as EMS-98 macroseismic intensity)\n",
    "#III-XI\n",
    "gms = [3.+i*1. for i in range(10)]\n",
    "\n",
    "#Vulnerabilty classes and vulnerability indices\n",
    "classes = ['A','B','C','D','E','F']\n",
    "vuln_indexes = [0.9,0.74,0.58,0.42,0.26,0.1]\n",
    "\n",
    "#Generate a data frame that will hold the models\n",
    "fragility = pandas.DataFrame()"
   ]
  },
  {
   "cell_type": "code",
   "execution_count": null,
   "metadata": {},
   "outputs": [],
   "source": [
    "fragility['VulnClass']     = numpy.repeat(classes,len(gms))\n",
    "fragility['VulnIndex']     = numpy.repeat(vuln_indexes,len(gms))\n",
    "fragility['EMS-98'] = gms*len(classes)"
   ]
  },
  {
   "cell_type": "code",
   "execution_count": null,
   "metadata": {},
   "outputs": [],
   "source": [
    "# Calculate mean damage grade mu_d for each ground motion step in gm\n",
    "fragility['mu_d'] = [2.5*(1+math.tanh(v)) for v in (fragility['EMS-98'] + 6.25*fragility['VulnIndex'] - 13.1)/2.3]"
   ]
  },
  {
   "cell_type": "code",
   "execution_count": null,
   "metadata": {},
   "outputs": [],
   "source": [
    "def pbeta(mu_d,t=8):\n",
    "    '''\n",
    "    Function to calculate damage grade distribution (beta distribution with a shape close to lognormal t=8)\n",
    "    input: mu_d - mean damage grade\n",
    "           t    - shape parameter of the beta distribution,default t=8\n",
    "    ouput: returns a list of scipy.stats.beta objects, one for each damage grade in mu_d\n",
    "    '''\n",
    "    #bounds of dg0-5 (upper bound = x+1 --> 6)\n",
    "    a,b = 0,5\n",
    "    #r,t parameters according to Giovinazzi 2005 (t=8)\n",
    "    r = t * (0.007 * mu_d**3 - 0.0525 * mu_d**2 + 0.2875 * mu_d)\n",
    "\n",
    "    #convert r,t to alpha,beta\n",
    "    alpha = r\n",
    "    beta = t - alpha\n",
    "    return scipy.stats.beta(alpha,beta,loc=a,scale=b-a)"
   ]
  },
  {
   "cell_type": "code",
   "execution_count": null,
   "metadata": {},
   "outputs": [],
   "source": [
    "#Get beta distribution for each groundmotion and Vulnerability Index from mean damage grade\n",
    "fragility['beta_dist'] = [pbeta(mu_d) for mu_d in fragility['mu_d']]\n"
   ]
  },
  {
   "cell_type": "code",
   "execution_count": null,
   "metadata": {},
   "outputs": [],
   "source": [
    "#Plot PDF's for each gm step for a given VC\n",
    "building_type = 'A'\n",
    "\n",
    "#get a set of damage grade values (and intermediate for pdf)\n",
    "dgs = [0.01*i for i in range(1,int(max(gms)*100)+1)]\n",
    "\n",
    "#show distributions\n",
    "samples=[]\n",
    "for gm in fragility['EMS-98'].unique():\n",
    "    #sample distribution\n",
    "    samples.append(fragility.loc[(fragility['VulnClass']==building_type)&(fragility['EMS-98']==gm),'beta_dist'].iloc[0].rvs(1000))\n",
    "\n",
    "#plot boxplot\n",
    "plt.boxplot(samples,positions=fragility['EMS-98'].unique())\n",
    "plt.xlabel('Macroseismic intensity')\n",
    "plt.ylabel('Damage grade')\n",
    "plt.show()"
   ]
  },
  {
   "cell_type": "code",
   "execution_count": null,
   "metadata": {},
   "outputs": [],
   "source": [
    "#get probability for each damage grade\n",
    "#NOTE: We assume that dg0.5 till dg1.5 --> dg1 etc.\n",
    "for dg in range(5):\n",
    "    fragility['dg{}'.format(dg)] = [v.cdf(dg+0.5)-v.cdf(dg-0.5) for v in fragility['beta_dist']]\n",
    "\n",
    "#last damage grade is 1-sum others\n",
    "fragility['dg5']=1.-fragility[['dg0','dg1','dg2','dg3','dg4']].sum(axis=1)\n",
    "fragility"
   ]
  },
  {
   "cell_type": "markdown",
   "metadata": {},
   "source": [
    "## Assigning fragility models to the buildings\n",
    "\n",
    "Let's try to assign some vulnerability classes to the buildings we have analysed in the following, \n",
    "of course this can only be done in a very simplified way in the framework of this workshop.\n",
    "\n",
    "First try to find a EMS-98 building type that may be described with the material types that you found\n",
    "Try to map the material types to the building types below.\n",
    "\n",
    "![ems98_types.jpeg](ems98_types.jpeg)"
   ]
  },
  {
   "cell_type": "code",
   "execution_count": null,
   "metadata": {},
   "outputs": [],
   "source": [
    "#Find unique material types in our dataset\n",
    "data['mat_type'].unique()"
   ]
  },
  {
   "cell_type": "code",
   "execution_count": null,
   "metadata": {},
   "outputs": [],
   "source": [
    "#Define a building type for each material type in the dataset\n",
    "mat_types = ['MUR','CR']\n",
    "bdg_types = ['M1','RC1']\n",
    "\n",
    "#Find the coresponding most likely vulnerability index NOTE: use same order as above for mat_types!\n",
    "vuln_index_ml = [0.873,0.644]\n",
    "\n",
    "#Find min and max values\n",
    "vun_index_min = [0.62,0.3]\n",
    "vuln_index_max = [1.02,1.02]"
   ]
  },
  {
   "cell_type": "code",
   "execution_count": null,
   "metadata": {},
   "outputs": [],
   "source": [
    "#store as a dataframe and select only one VI for now!\n",
    "\n",
    "#WHICH VI should be used?\n",
    "vuln_index= vuln_index_ml\n",
    "\n",
    "#store\n",
    "my_fragility = pandas.DataFrame()\n",
    "my_fragility['mat_type'] = numpy.repeat(mat_types,len(gms))\n",
    "my_fragility['bdg_type'] = numpy.repeat(bdg_types,len(gms))\n",
    "my_fragility['EMS-98'] = gms*len(mat_types)\n",
    "my_fragility['VulnIndex'] = numpy.repeat(vuln_index,len(gms))\n",
    "\n",
    "#!!! CHECK THE DATAFRAME IF NOT ALL MAT_TYPES HAVE A MAPPING THE FOLLOWING SCRIPTS WILL FAIL!!!\n",
    "my_fragility"
   ]
  },
  {
   "cell_type": "markdown",
   "metadata": {},
   "source": [
    "## Building type assignment\n",
    "Assign each building a building type make sure every type is defined!"
   ]
  },
  {
   "cell_type": "code",
   "execution_count": null,
   "metadata": {},
   "outputs": [],
   "source": [
    "#ONLY SUBSET\n",
    "#data=data.loc[(data['mat_type']=='CR')|(data['mat_type']=='MUR')].copy()\n",
    "#data=data.reset_index()\n",
    "#data['mat_type'].unique()"
   ]
  },
  {
   "cell_type": "code",
   "execution_count": null,
   "metadata": {},
   "outputs": [],
   "source": [
    "try:\n",
    "    data['bdg_type']= [my_fragility.loc[my_fragility['mat_type']==mat_type,'bdg_type'].iloc[0] for mat_type in data['mat_type']]\n",
    "except:\n",
    "    print 'There are undefined building type mappings!'\n",
    "    raise Exception\n"
   ]
  },
  {
   "cell_type": "code",
   "execution_count": null,
   "metadata": {},
   "outputs": [],
   "source": [
    "#Check the building types\n",
    "data['bdg_type'].unique()"
   ]
  },
  {
   "cell_type": "markdown",
   "metadata": {},
   "source": [
    " ### Fragility curves\n",
    " \n",
    " We can now apply the same approach as for the individual vulnerability classes before \n",
    " and assign each building with a probability distribution"
   ]
  },
  {
   "cell_type": "code",
   "execution_count": null,
   "metadata": {},
   "outputs": [],
   "source": [
    "# Calculate mean damage grade mu_d for each ground motion step in gm\n",
    "my_fragility['mu_d'] = [2.5*(1+math.tanh(v)) for v in (my_fragility['EMS-98'] + 6.25*my_fragility['VulnIndex'] - 13.1)/2.3]\n",
    "\n",
    "#Get beta distribution for each groundmotion and Vulnerability Index from mean damage grade\n",
    "my_fragility['beta_dist'] = [pbeta(mu_d) for mu_d in my_fragility['mu_d']]\n",
    "\n",
    "#get probability for each damage grade\n",
    "#NOTE: We assume that dg0.5 till dg1.5 --> dg1 etc.\n",
    "for dg in range(5):\n",
    "    my_fragility['dg{}'.format(dg)] = [v.cdf(dg+0.5)-v.cdf(dg-0.5) for v in my_fragility['beta_dist']]\n",
    "\n",
    "#last damage grade is 1-sum others\n",
    "my_fragility['dg5']=1.-my_fragility[['dg0','dg1','dg2','dg3','dg4']].sum(axis=1)\n",
    "my_fragility"
   ]
  },
  {
   "cell_type": "code",
   "execution_count": null,
   "metadata": {},
   "outputs": [],
   "source": [
    "#Plot the fragility functions for a given building type\n",
    "bdg_type='RC1'\n",
    "\n",
    "#NOTE: We have the PDF representation here not the more common CDF representation!\n",
    "#plot it\n",
    "legend=[]\n",
    "for dg in range(6):\n",
    "    x = my_fragility.loc[my_fragility['bdg_type']==bdg_type,'EMS-98']\n",
    "    y = my_fragility.loc[my_fragility['bdg_type']==bdg_type,'dg{}'.format(dg)]\n",
    "    plt.plot(x,y)\n",
    "    legend.append('dg{}'.format(dg))\n",
    "plt.legend(legend)\n",
    "plt.show()"
   ]
  },
  {
   "cell_type": "markdown",
   "metadata": {},
   "source": [
    "# 3. Vulnerability\n",
    " \n",
    " ## Tasks\n",
    "    - Get vulnerability curve for mean loss ratios from fragility curves\n",
    "      and a loss transfer function\n",
    "    - Plotting vulnerability for different building types\n",
    "    - Assigning a value to the buildings\n",
    "\n",
    "\n",
    "\n",
    "### Loss transfer function\n",
    "\n",
    "Now we should have a fragility model for each of the buildings in our data set\n",
    ", i.e., for each macroseismic intensity we have a probability to reach \n",
    "a specific damage state.\n",
    "\n",
    "Now considering a damage to loss transfer function as defined e.g. in Moroux 2004:\n",
    "\n",
    "|EMS-98 damage grade | loss ratio % |\n",
    "|:-----------|------------:|\n",
    "|DG1 | 2|\n",
    "|DG2 |10|\n",
    "|DG3 |50|\n",
    "|DG4 |100|\n",
    "|DG5 |100|\n",
    "\n",
    "\n",
    "We can use this information to calculate a mean vulnerability curve from these values\n",
    "as:\n",
    "\n",
    "$P(MeanLossRatio|intensity) = \\sum_{DG_i;i=1,5} LossRatio_i*p(DG_i|gm)$\n",
    "\n"
   ]
  },
  {
   "cell_type": "code",
   "execution_count": null,
   "metadata": {},
   "outputs": [],
   "source": [
    "#vulnerability\n",
    "vulnerability = my_fragility[['bdg_type','EMS-98','dg0','dg1','dg2','dg3','dg4','dg5']].copy(deep=True)\n",
    "\n",
    "#loss ratios dg1...dg5\n",
    "loss_ratios = [0,0.02,0.10,0.50,1.00,1.00]\n",
    "#Get vulnerability\n",
    "#vulnerability['LR|I']=0\n",
    "vulnerability[['dg0','dg1','dg2','dg3','dg4','dg5']]=vulnerability[['dg0','dg1','dg2','dg3','dg4','dg5']]*loss_ratios\n",
    "vulnerability['Loss Ratio (I)']=vulnerability[['dg0','dg1','dg2','dg3','dg4','dg5']].sum(axis=1)\n",
    "vulnerability = vulnerability.drop(['dg0','dg1','dg2','dg3','dg4','dg5'],1)\n",
    "vulnerability"
   ]
  },
  {
   "cell_type": "code",
   "execution_count": null,
   "metadata": {},
   "outputs": [],
   "source": [
    "#Plot the vulnerability function for a given building type\n",
    "bdg_type='RC1'\n",
    "\n",
    "#plot it\n",
    "x = vulnerability.loc[vulnerability['bdg_type']==bdg_type,'EMS-98']\n",
    "y = vulnerability.loc[vulnerability['bdg_type']==bdg_type,'Loss Ratio (I)'.format(dg)]\n",
    "plt.plot(x,y)\n",
    "plt.legend([bdg_type])\n",
    "plt.xlabel('Macroseismic intensity')\n",
    "plt.ylabel('Mean loss ratio')\n",
    "plt.show()"
   ]
  },
  {
   "cell_type": "markdown",
   "metadata": {},
   "source": [
    "## Assign value\n",
    "\n",
    "In order to calculate an earthquake loss scenario we need to assign a value to each building.\n",
    "We assign each storey of a building a value of 100 tsdUSD.\n",
    "\n",
    "First lets set the buildings with unknown height to NA and then for the rest estimate a value\n",
    "from the height.\n"
   ]
  },
  {
   "cell_type": "code",
   "execution_count": null,
   "metadata": {},
   "outputs": [],
   "source": [
    "#unknown 99 to nan\n",
    "data.loc[data['floors']==99.] = numpy.nan\n",
    "\n",
    "#each floor is 100 tsd USD\n",
    "data['tsdUSD'] = data['floors']*100\n",
    "\n",
    "#show total value\n",
    "print 'Total assigned exposure value [tsd USD]: {}'.format(data['tsdUSD'].sum())"
   ]
  },
  {
   "cell_type": "code",
   "execution_count": null,
   "metadata": {},
   "outputs": [],
   "source": [
    "#There might be rows with NaN now remove them\n",
    "data.loc[data.isnull().any(axis=1)]\n",
    "#remove in case\n",
    "data=data.dropna()\n",
    "data.reset_index()"
   ]
  },
  {
   "cell_type": "markdown",
   "metadata": {},
   "source": [
    "\n",
    " \n",
    " ## 4. Loss Scenario\n",
    " \n",
    " ### Tasks\n",
    "     - Define an earthquake scenario and plot it\n",
    "     - Calculate the macroseismic intensity using a simple IPE\n",
    "     - Plot the ground motion field\n",
    "     - Estimate the loss for each building\n",
    "     - Investigate the loss distribution\n",
    "\n",
    "Finally we can calculate a scenario loss for our exposure.\n",
    "\n",
    "We define a simple Intensity Prediction Equation:"
   ]
  },
  {
   "cell_type": "code",
   "execution_count": null,
   "metadata": {},
   "outputs": [],
   "source": [
    "def haversine(lon1, lat1, lon2, lat2):\n",
    "    \"\"\"\n",
    "    Calculate the great circle distance between two points \n",
    "    on the earth (specified in decimal degrees)\n",
    "    \"\"\"\n",
    "    # convert decimal degrees to radians \n",
    "    lon1, lat1, lon2, lat2 = map(math.radians, [lon1, lat1, lon2, lat2])\n",
    "    # haversine formula \n",
    "    dlon = lon2 - lon1 \n",
    "    dlat = lat2 - lat1 \n",
    "    a = math.sin(dlat/2)**2 + math.cos(lat1) * math.cos(lat2) * math.sin(dlon/2)**2\n",
    "    c = 2 * math.asin(math.sqrt(a)) \n",
    "    km = 6367 * c\n",
    "    return km\n",
    "\n",
    "def IPE(lon_sites,lat_sites,lon_eq,lat_eq,mw,z):\n",
    "    # Calculates the intensities resulting from an event at given site locations\n",
    "    # implemented from Allen, Wald & Worden 2012\n",
    "    # only the hypocentral distance model was implemented (not the rupture distance model)\n",
    "    # input: 1) mw = Moment magnitude (Scalar)\n",
    "    #        2) lon_sites/lat_sites = locations to calculate intensity at\n",
    "    #        3) lon_eq/lat_eq = epicentre\n",
    "    #        4) depth = hypocentral depth [km]\n",
    "    # output:1) dataframe containing magnitude,intensity[MMI],sigma[MMI],epicentral distance [km]\n",
    "  \n",
    "    #Parameters for IPE\n",
    "    c0 =  2.085\n",
    "    c1 =  1.428\n",
    "    c2 = -1.402\n",
    "    c4 =  0.078\n",
    "    m1 = -0.209\n",
    "    m2 =  2.042\n",
    "    #Parameters for distance dependent uncertainty\n",
    "    s1 =  0.82\n",
    "    s2 =  0.37\n",
    "    s3 = 22.9\n",
    "    \n",
    "    #Calculate hypocentral distances\n",
    "    R = [haversine(lon_eq,lat_eq,x,y) for x,y in zip(lon_sites,lat_sites)]\n",
    "  \n",
    "    #Calculate attenuation\n",
    "    #Rm\n",
    "    Rm = m1 + m2 * math.exp(mw-5)\n",
    "    \n",
    "    #close site effect\n",
    "    switchON = [1 if r>50 else 0 for r in R]\n",
    "    \n",
    "    #return intensities and sigma\n",
    "    intensity = [c0 + c1*mw + c2*math.log(math.sqrt(r**2+Rm**2))+sw*c4*math.log(r/50.) for r,sw in zip(R,switchON)]\n",
    "    #sigmas = [s1 + s2/(1+(r/s3)^2) for r in R]\n",
    "  \n",
    "    return intensity#,sigmas"
   ]
  },
  {
   "cell_type": "code",
   "execution_count": null,
   "metadata": {},
   "outputs": [],
   "source": [
    "# Define a scenario earthquake, simple point source\n",
    "\n",
    "event_mw = 4.5 # moment magnitude of the earthquake \n",
    "event_lon = 7.9 # longitude of the epicentre\n",
    "event_lat = 48.9 # latitude of the epicentre\n",
    "event_depth = 10 # focal depth in Km"
   ]
  },
  {
   "cell_type": "code",
   "execution_count": null,
   "metadata": {},
   "outputs": [],
   "source": [
    "#plot the scenario\n",
    "plt.scatter(data['lon'],data['lat'],color='blue') # plot the locations of the buildings\n",
    "plt.scatter(event_lon,event_lat,marker='*',s=math.exp(event_mw),color='red') # plot the earthquake´s epicentre\n",
    "plt.show()"
   ]
  },
  {
   "cell_type": "code",
   "execution_count": null,
   "metadata": {},
   "outputs": [],
   "source": [
    "# Calculate ground motion for each building\n",
    "\n",
    "data['gm'] = IPE(data['lon'],data['lat'],event_lon,event_lat,event_mw,event_depth)"
   ]
  },
  {
   "cell_type": "code",
   "execution_count": null,
   "metadata": {},
   "outputs": [],
   "source": [
    "#take non-nan\n",
    "subset = data[['lon','lat','gm']].dropna()\n",
    "\n",
    "#how many\n",
    "n = min(len(data['lon']),300)\n",
    "x = subset['lon'].iloc[0:n]\n",
    "y = subset['lat'].iloc[0:n]\n",
    "z = subset['gm'].iloc[0:n]\n",
    "\n",
    "#plot\n",
    "CS = plt.tricontourf(x,y,z,levels=[1,2,3,4,5,6,7,8,9,10,11,12],cmap=plt.cm.jet)\n",
    "plt.colorbar(CS)\n",
    "plt.scatter(event_lon,event_lat,marker='*',s=math.exp(event_mw),color='red')\n",
    "plt.show()"
   ]
  },
  {
   "cell_type": "markdown",
   "metadata": {},
   "source": [
    "### Now we have all ingredients just calculate the loss for each building\n"
   ]
  },
  {
   "cell_type": "code",
   "execution_count": null,
   "metadata": {},
   "outputs": [],
   "source": [
    "data['loss'] = [vulnerability.loc[\n",
    "    (vulnerability['bdg_type']==data['bdg_type'].iloc[i])&\n",
    "    (vulnerability['EMS-98']==round(data['gm'].iloc[i])),'Loss Ratio (I)'].iloc[0]*\n",
    "                data['tsdUSD'].iloc[i] for i in range(len(data['gm']))]"
   ]
  },
  {
   "cell_type": "markdown",
   "metadata": {},
   "source": [
    "### Let's take a look at the loss distribution\n"
   ]
  },
  {
   "cell_type": "code",
   "execution_count": null,
   "metadata": {},
   "outputs": [],
   "source": [
    "#Total loss\n",
    "data['loss'].sum()"
   ]
  },
  {
   "cell_type": "code",
   "execution_count": null,
   "metadata": {},
   "outputs": [],
   "source": [
    "#Loss aggregated per building type\n",
    "data.groupby('bdg_type')['loss'].sum()"
   ]
  },
  {
   "cell_type": "code",
   "execution_count": null,
   "metadata": {},
   "outputs": [],
   "source": [
    "plt.hist(data['loss'])\n",
    "plt.show()"
   ]
  },
  {
   "cell_type": "code",
   "execution_count": null,
   "metadata": {},
   "outputs": [],
   "source": [
    "#different building types\n",
    "data['bdg_type'].unique()"
   ]
  },
  {
   "cell_type": "code",
   "execution_count": null,
   "metadata": {},
   "outputs": [],
   "source": [
    "#Check individual building types\n",
    "bdg_type='M1'\n",
    "plt.hist(data['loss'].loc[data['bdg_type']==bdg_type])\n",
    "plt.show()"
   ]
  },
  {
   "cell_type": "code",
   "execution_count": null,
   "metadata": {},
   "outputs": [],
   "source": [
    "#Check individual building types\n",
    "bdg_type='RC1'\n",
    "plt.hist(data['loss'].loc[data['bdg_type']==bdg_type])\n",
    "plt.show()"
   ]
  }
 ],
 "metadata": {
  "kernelspec": {
   "display_name": "Python 2",
   "language": "python",
   "name": "python2"
  },
  "language_info": {
   "codemirror_mode": {
    "name": "ipython",
    "version": 2
   },
   "file_extension": ".py",
   "mimetype": "text/x-python",
   "name": "python",
   "nbconvert_exporter": "python",
   "pygments_lexer": "ipython2",
   "version": "2.7.13"
  }
 },
 "nbformat": 4,
 "nbformat_minor": 1
}
